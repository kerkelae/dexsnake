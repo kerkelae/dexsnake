{
 "cells": [
  {
   "cell_type": "markdown",
   "metadata": {},
   "source": [
    "# Uniswap V2 Tutorial\n",
    "\n",
    "This tutorial shows how to use Dexsnake to use Uniswap V2. Let's start by connecting to the blockchain (the code snippet below assumes you have configured the required environment variables):"
   ]
  },
  {
   "cell_type": "code",
   "execution_count": 12,
   "metadata": {},
   "outputs": [],
   "source": [
    "import os\n",
    "\n",
    "from web3 import Web3\n",
    "\n",
    "\n",
    "account = os.getenv(\"WEB3_PUBLIC_KEY\")\n",
    "private_key = os.getenv(\"WEB3_PRIVATE_KEY\")\n",
    "provider_url = os.getenv(\"WEB3_PROVIDER_URL\")\n",
    "\n",
    "web3 = Web3(Web3.HTTPProvider(provider_url))"
   ]
  },
  {
   "cell_type": "markdown",
   "metadata": {},
   "source": [
    "Now, let's import `UniswapV2Factory` and find the pair with USDC and WETH."
   ]
  },
  {
   "cell_type": "code",
   "execution_count": 2,
   "metadata": {},
   "outputs": [
    {
     "name": "stdout",
     "output_type": "stream",
     "text": [
      "0x88A43bbDF9D098eEC7bCEda4e2494615dfD9bB9C\n"
     ]
    }
   ],
   "source": [
    "from dexsnake.uniswap_v2 import UniswapV2Factory\n",
    "\n",
    "\n",
    "factory = UniswapV2Factory(web3)\n",
    "\n",
    "# These are the addresses of USDC and WETH on Base. If you are using a Web3\n",
    "# instance connected to a different blockchain, update these.\n",
    "USDC = \"0x833589fCD6eDb6E08f4c7C32D4f71b54bdA02913\"\n",
    "WETH = \"0x4200000000000000000000000000000000000006\"\n",
    "\n",
    "pair_address = factory.get_pair(USDC, WETH)\n",
    "\n",
    "print(pair_address)"
   ]
  },
  {
   "cell_type": "markdown",
   "metadata": {},
   "source": [
    "Now, let's initialize the pair object, fetch the reserves of the pair and calculate the price of WETH using the constant product formula:"
   ]
  },
  {
   "cell_type": "code",
   "execution_count": 3,
   "metadata": {},
   "outputs": [
    {
     "name": "stdout",
     "output_type": "stream",
     "text": [
      "494.5171313913738\n",
      "1214088.117786\n",
      "2455.0981972455443\n"
     ]
    }
   ],
   "source": [
    "from dexsnake.uniswap_v2 import UniswapV2Pair\n",
    "\n",
    "\n",
    "pair = UniswapV2Pair(web3, pair_address)\n",
    "\n",
    "reserves_0, reserves_1, timestamp_last_updated = pair.get_reserves()\n",
    "\n",
    "print(reserves_0 / 1e18)  # WETH reserves\n",
    "print(reserves_1 / 1e6)  # USDC reserves\n",
    "\n",
    "price = reserves_1 / reserves_0\n",
    "\n",
    "print(price * 1e18 / 1e6)  # price of WETH after taking into account the decimals"
   ]
  },
  {
   "cell_type": "markdown",
   "metadata": {},
   "source": [
    "Now that we know the pair has good liquidity at a good price, let's use the router to swap one USDC for WETH (this assumes that you have already approved the router contract to spend your USDC)."
   ]
  },
  {
   "cell_type": "code",
   "execution_count": 11,
   "metadata": {},
   "outputs": [
    {
     "data": {
      "text/plain": [
       "AttributeDict({'blockHash': HexBytes('0xa858551a1f9dec6a24c04103074606210dbccafe6bdd028e4baaab5c395f3531'),\n",
       " 'blockNumber': 18164904,\n",
       " 'contractAddress': None,\n",
       " 'cumulativeGasUsed': 18413451,\n",
       " 'effectiveGasPrice': 8093245,\n",
       " 'from': '0x011b7DD4cAA8E48FbBaef548dB349dfB3D09aA3F',\n",
       " 'gasUsed': 127659,\n",
       " 'l1BaseFeeScalar': '0x8dd',\n",
       " 'l1BlobBaseFee': '0x1',\n",
       " 'l1BlobBaseFeeScalar': '0x101c12',\n",
       " 'l1Fee': '0x909580b25',\n",
       " 'l1GasPrice': '0x1b8183215',\n",
       " 'l1GasUsed': '0x90c',\n",
       " 'logs': [AttributeDict({'address': '0x833589fCD6eDb6E08f4c7C32D4f71b54bdA02913',\n",
       "   'topics': [HexBytes('0xddf252ad1be2c89b69c2b068fc378daa952ba7f163c4a11628f55a4df523b3ef'),\n",
       "    HexBytes('0x000000000000000000000000011b7dd4caa8e48fbbaef548db349dfb3d09aa3f'),\n",
       "    HexBytes('0x00000000000000000000000088a43bbdf9d098eec7bceda4e2494615dfd9bb9c')],\n",
       "   'data': HexBytes('0x00000000000000000000000000000000000000000000000000000000000f4240'),\n",
       "   'blockNumber': 18164904,\n",
       "   'transactionHash': HexBytes('0x0d46f872967e2e8be4c2492bdc5c8abe442b0ade98bec51b2e4c61d280258b7f'),\n",
       "   'transactionIndex': 24,\n",
       "   'blockHash': HexBytes('0xa858551a1f9dec6a24c04103074606210dbccafe6bdd028e4baaab5c395f3531'),\n",
       "   'logIndex': 628,\n",
       "   'removed': False}),\n",
       "  AttributeDict({'address': '0x4200000000000000000000000000000000000006',\n",
       "   'topics': [HexBytes('0xddf252ad1be2c89b69c2b068fc378daa952ba7f163c4a11628f55a4df523b3ef'),\n",
       "    HexBytes('0x00000000000000000000000088a43bbdf9d098eec7bceda4e2494615dfd9bb9c'),\n",
       "    HexBytes('0x000000000000000000000000011b7dd4caa8e48fbbaef548db349dfb3d09aa3f')],\n",
       "   'data': HexBytes('0x00000000000000000000000000000000000000000000000000017180561d57a3'),\n",
       "   'blockNumber': 18164904,\n",
       "   'transactionHash': HexBytes('0x0d46f872967e2e8be4c2492bdc5c8abe442b0ade98bec51b2e4c61d280258b7f'),\n",
       "   'transactionIndex': 24,\n",
       "   'blockHash': HexBytes('0xa858551a1f9dec6a24c04103074606210dbccafe6bdd028e4baaab5c395f3531'),\n",
       "   'logIndex': 629,\n",
       "   'removed': False}),\n",
       "  AttributeDict({'address': '0x88A43bbDF9D098eEC7bCEda4e2494615dfD9bB9C',\n",
       "   'topics': [HexBytes('0x1c411e9a96e071241c2f21f7726b17ae89e3cab4c78be50e062b03a9fffbbad1')],\n",
       "   'data': HexBytes('0x00000000000000000000000000000000000000000000001ad04d2087b95ea8cb0000000000000000000000000000000000000000000000000000011a9d8f9e0a'),\n",
       "   'blockNumber': 18164904,\n",
       "   'transactionHash': HexBytes('0x0d46f872967e2e8be4c2492bdc5c8abe442b0ade98bec51b2e4c61d280258b7f'),\n",
       "   'transactionIndex': 24,\n",
       "   'blockHash': HexBytes('0xa858551a1f9dec6a24c04103074606210dbccafe6bdd028e4baaab5c395f3531'),\n",
       "   'logIndex': 630,\n",
       "   'removed': False}),\n",
       "  AttributeDict({'address': '0x88A43bbDF9D098eEC7bCEda4e2494615dfD9bB9C',\n",
       "   'topics': [HexBytes('0xd78ad95fa46c994b6551d0da85fc275fe613ce37657fb8d5e3d130840159d822'),\n",
       "    HexBytes('0x0000000000000000000000004752ba5dbc23f44d87826276bf6fd6b1c372ad24'),\n",
       "    HexBytes('0x000000000000000000000000011b7dd4caa8e48fbbaef548db349dfb3d09aa3f')],\n",
       "   'data': HexBytes('0x000000000000000000000000000000000000000000000000000000000000000000000000000000000000000000000000000000000000000000000000000f424000000000000000000000000000000000000000000000000000017180561d57a30000000000000000000000000000000000000000000000000000000000000000'),\n",
       "   'blockNumber': 18164904,\n",
       "   'transactionHash': HexBytes('0x0d46f872967e2e8be4c2492bdc5c8abe442b0ade98bec51b2e4c61d280258b7f'),\n",
       "   'transactionIndex': 24,\n",
       "   'blockHash': HexBytes('0xa858551a1f9dec6a24c04103074606210dbccafe6bdd028e4baaab5c395f3531'),\n",
       "   'logIndex': 631,\n",
       "   'removed': False})],\n",
       " 'logsBloom': HexBytes('0x00200000000000000000000080000000000000000000000000040000000000000000000000200000000000100000100000000000000000000002000000000000000000000008000400000008000000202000000000080000000000000000000400800020000000000000000000000000000000000000000000000010000000000000000000000000000000000000000000000000002100080000004000000000000000000000000000000000000000000000000000000000000000000000000000000002000100400000000000000000000000000000001000000000000008000000000100000000000000000000000000000000000000000000000000000000'),\n",
       " 'status': 1,\n",
       " 'to': '0x4752ba5DBc23f44D87826276BF6Fd6b1C372aD24',\n",
       " 'transactionHash': HexBytes('0x0d46f872967e2e8be4c2492bdc5c8abe442b0ade98bec51b2e4c61d280258b7f'),\n",
       " 'transactionIndex': 24,\n",
       " 'type': 0})"
      ]
     },
     "execution_count": 11,
     "metadata": {},
     "output_type": "execute_result"
    }
   ],
   "source": [
    "from dexsnake.uniswap_v2 import UniswapV2Router\n",
    "\n",
    "\n",
    "router = UniswapV2Router(web3)\n",
    "\n",
    "tx_receipt = router.swap_exact_tokens_for_tokens(\n",
    "    amount_in=int(1 * 1e6),\n",
    "    amount_out_min=int(1 * 1e6 / price * 0.99),\n",
    "    path=[USDC, WETH],\n",
    "    to=account,\n",
    "    account=account,\n",
    "    private_key=private_key,\n",
    ")\n",
    "\n",
    "tx_receipt"
   ]
  },
  {
   "cell_type": "markdown",
   "metadata": {},
   "source": [
    "You can inspect the transaction on the block explorer: https://basescan.org/tx/0x0d46f872967e2e8be4c2492bdc5c8abe442b0ade98bec51b2e4c61d280258b7f."
   ]
  }
 ],
 "metadata": {
  "kernelspec": {
   "display_name": "base",
   "language": "python",
   "name": "python3"
  },
  "language_info": {
   "codemirror_mode": {
    "name": "ipython",
    "version": 3
   },
   "file_extension": ".py",
   "mimetype": "text/x-python",
   "name": "python",
   "nbconvert_exporter": "python",
   "pygments_lexer": "ipython3",
   "version": "3.11.7"
  }
 },
 "nbformat": 4,
 "nbformat_minor": 2
}
